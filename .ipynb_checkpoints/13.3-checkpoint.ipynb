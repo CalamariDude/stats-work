{
 "cells": [
  {
   "cell_type": "markdown",
   "metadata": {},
   "source": [
    "## 13.3"
   ]
  },
  {
   "cell_type": "code",
   "execution_count": null,
   "metadata": {},
   "outputs": [],
   "source": [
    "import numpy as np\n",
    "X = np.ones((13,2))\n",
    "X[:,1] = np.asarray([1971, 1972, 1974, 1978, 1982, 1985, 1989, 1993, 1997, 1999, 2000, 2002, 2003]) - 1970\n",
    "y = np.log10([2250,2500,5000,29000,120000,275000,1180000,3100000,7500000,24000000,42000000,220000000,410000000])\n",
    "b = np.linalg.inv(X.T@X)@X.T@y\n",
    "print(b)"
   ]
  },
  {
   "cell_type": "code",
   "execution_count": 24,
   "metadata": {},
   "outputs": [
    {
     "data": {
      "image/png": "[encoded data removed]",
      "text/plain": [
       "<Figure size 432x288 with 1 Axes>"
      ]
     },
     "metadata": {
      "needs_background": "light"
     },
     "output_type": "display_data"
    }
   ],
   "source": [
    "import matplotlib.pyplot as plt\n",
    "plt.scatter(X[:,1], y)\n",
    "plt.plot(X[:,1], b[1]*(X[:,1]) + b[0], linestyle='-')\n",
    "plt.title(\"Moore's Law\")\n",
    "plt.xlabel(\"Years minus 1970\")\n",
    "plt.ylabel(\"Transistors (log10)\")\n",
    "plt.show()"
   ]
  },
  {
   "cell_type": "code",
   "execution_count": 30,
   "metadata": {},
   "outputs": [
    {
     "name": "stdout",
     "output_type": "stream",
     "text": [
      "Predicted:  11387036868.698683\n",
      "Actual 4000000000\n",
      "Difference 2.8467592171746707\n"
     ]
    }
   ],
   "source": [
    "#B\n",
    "##Prediction:\n",
    "transitors = 10**(b[0] + b[1]*(2015-1970))\n",
    "actual = 4*(10**9)\n",
    "print(\"Predicted: \", transitors)\n",
    "print(\"Actual\", actual)\n",
    "print(\"Difference\", transitors/actual)"
   ]
  },
  {
   "cell_type": "markdown",
   "metadata": {},
   "source": [
    "C\n",
    "It seems like the predicted transistors undershot the actual number of transitors by about 1 year. However, it still incredibly accurate and it may be more consistent this year with Intel's failed 10nm chip (lol)."
   ]
  },
  {
   "cell_type": "markdown",
   "metadata": {},
   "source": [
    "## 13.17"
   ]
  },
  {
   "cell_type": "code",
   "execution_count": 41,
   "metadata": {},
   "outputs": [
    {
     "name": "stdout",
     "output_type": "stream",
     "text": [
      "100\n"
     ]
    }
   ],
   "source": [
    "x = []\n",
    "for i in range(1,12):\n",
    "    val = -1 + .2*(i-1)\n",
    "    x.append(val)\n",
    "x = np.asarray(x)\n",
    "y = (1+x)/(1+5*x**2)\n",
    "step = 1.1*2 /100\n",
    "xtrue = np.arange(-1.1,1.1,step)\n",
    "ytrue = (1+xtrue)/(1+5*xtrue**2)\n",
    "uptodegree = 8\n",
    "\n",
    "\n",
    "#Function to transform data to required model degree form\n",
    "def makeX(x, degree):\n",
    "    X= []\n",
    "    for i in range(degree+1):\n",
    "        X.append(x**i)\n",
    "    X = np.asarray(X).T\n",
    "    return X\n",
    "\n",
    "models = []\n",
    "#Get models\n",
    "for degree in range(uptodegree+1):\n",
    "    X = makeX(x,degree)\n",
    "    coef = np.linalg.inv(X.T@X)@X.T@y\n",
    "    models.append(coef)\n",
    "    "
   ]
  },
  {
   "cell_type": "code",
   "execution_count": null,
   "metadata": {},
   "outputs": [],
   "source": []
  }
 ],
 "metadata": {
  "kernelspec": {
   "display_name": "Python 3",
   "language": "python",
   "name": "python3"
  },
  "language_info": {
   "codemirror_mode": {
    "name": "ipython",
    "version": 3
   },
   "file_extension": ".py",
   "mimetype": "text/x-python",
   "name": "python",
   "nbconvert_exporter": "python",
   "pygments_lexer": "ipython3",
   "version": "3.7.5"
  }
 },
 "nbformat": 4,
 "nbformat_minor": 2
}
